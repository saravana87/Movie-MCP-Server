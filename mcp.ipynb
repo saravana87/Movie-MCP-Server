{
 "cells": [
  {
   "cell_type": "markdown",
   "id": "99eee7a2",
   "metadata": {},
   "source": [
    "# MCP ToolSpec\n",
    "\n",
    "This tool connects to MCP Servers and allows an Agent to call the tools provided by MCP Servers.\n",
    "\n",
    "This idea is migrated from [Integrate MCP tools into LlamaIndex](https://psiace.me/posts/integrate-mcp-tools-into-llamaindex/).\n",
    "```bash\n",
    "# get the code\n",
    "git clone https://github.com/run-llama/llama_index\n",
    "cd llama_index/llama-index-integrations/tools/llama-index-tools-mcp/examples\n",
    "\n",
    "\n",
    "cp .env.example .env\n",
    "# NOTE: edit the .env file to have the correct values!\n",
    "\n",
    "# run the server\n",
    "python mcp_server.py --server_type=sse\n",
    "```\n"
   ]
  },
  {
   "cell_type": "markdown",
   "id": "d8f6ef6b",
   "metadata": {},
   "source": [
    "In this example, we will create a agent to search the web or retrieve the movie details using the CSV file.\n",
    "\n",
    "It's built using the `AgentWorkflow` class from LlamaIndex. If that's new to you, you can [read more about it](https://docs.llamaindex.ai/en/stable/examples/agent/agent_workflow_basic/)!"
   ]
  },
  {
   "cell_type": "code",
   "execution_count": 16,
   "id": "30e6088f",
   "metadata": {},
   "outputs": [],
   "source": [
    "from llama_index.llms.openai import OpenAI\n",
    "import dotenv\n",
    "\n",
    "dotenv.load_dotenv()\n",
    "\n",
    "llm = OpenAI(model=\"gpt-4o\")"
   ]
  },
  {
   "cell_type": "code",
   "execution_count": 21,
   "id": "f519717e-c620-4e32-9729-99740b648556",
   "metadata": {},
   "outputs": [],
   "source": [
    "from llama_index.tools.mcp import McpToolSpec\n",
    "from llama_index.core.agent.workflow import FunctionAgent, ToolCallResult, ToolCall\n",
    "from llama_index.core.workflow import Context\n",
    "\n",
    "SYSTEM_PROMPT = \"\"\"\\\n",
    "You are an AI assistant.\n",
    "\n",
    "You have access to movie database\n",
    "\"\"\"\n",
    "\n",
    "\n",
    "async def get_agent(tools: McpToolSpec):\n",
    "    tools = await tools.to_tool_list_async()\n",
    "    agent = FunctionAgent(\n",
    "        name=\"Agent\",\n",
    "        description=\"An agent that can fetch movie details and search web with user query.\",\n",
    "        tools=tools,\n",
    "        llm=llm,\n",
    "        system_prompt=SYSTEM_PROMPT,\n",
    "    )\n",
    "    return agent\n",
    "\n",
    "\n",
    "async def handle_user_message(\n",
    "    message_content: str,\n",
    "    agent: FunctionAgent,\n",
    "    agent_context: Context,\n",
    "    verbose: bool = False,\n",
    "):\n",
    "    handler = agent.run(message_content, ctx=agent_context)\n",
    "    async for event in handler.stream_events():\n",
    "        if verbose and type(event) == ToolCall:\n",
    "            print(f\"Calling tool {event.tool_name} with kwargs {event.tool_kwargs}\")\n",
    "        elif verbose and type(event) == ToolCallResult:\n",
    "            print(f\"Tool {event.tool_name} returned {event.tool_output}\")\n",
    "\n",
    "    response = await handler\n",
    "    return str(response)"
   ]
  },
  {
   "cell_type": "code",
   "execution_count": 34,
   "id": "9a69bdec",
   "metadata": {},
   "outputs": [],
   "source": [
    "from llama_index.tools.mcp import BasicMCPClient, McpToolSpec\n",
    "\n",
    "# We consider there is a mcp server running on 127.0.0.1:8000, or you can use the mcp client to connect to your own mcp server.\n",
    "mcp_client = BasicMCPClient(\"http://127.0.0.1:8000/sse\")\n",
    "mcp_tool = McpToolSpec(client=mcp_client)\n",
    "\n",
    "# get the agent\n",
    "agent = await get_agent(mcp_tool)\n",
    "\n",
    "# create the agent context\n",
    "agent_context = Context(agent)"
   ]
  },
  {
   "cell_type": "code",
   "execution_count": 35,
   "id": "db33a67f",
   "metadata": {},
   "outputs": [
    {
     "name": "stdout",
     "output_type": "stream",
     "text": [
      "User:  what are the latest movies\n",
      "Calling tool search_web with kwargs {'query': 'latest movies 2023'}\n",
      "Tool search_web returned meta=None content=[TextContent(type='text', text='{\"searchParameters\": {\"q\": \"latest movies 2023\", \"type\": \"search\", \"num\": 2, \"engine\": \"google\"}, \"organic\": [{\"title\": \"Movie, Release date between 2023-01-01 and 2023-12-31 ... - IMDb\", \"link\": \"https://www.imdb.com/year/2023\", \"snippet\": \"1. Oppenheimer \\\\u00b7 2. Hell of a Summer \\\\u00b7 3. The Hunger Games: The Ballad of Songbirds & Snakes \\\\u00b7 4. Anyone But You \\\\u00b7 5. Mission: Impossible - Dead Reckoning Part One.\", \"position\": 1}, {\"title\": \"Best Movies 2023 - Rotten Tomatoes\", \"link\": \"https://editorial.rottentomatoes.com/guide/best-2023-movies/\", \"snippet\": \"Best Movies 2023 \\\\u00b7 Oppenheimer (2023) Tomatometer icon \\\\u00b7 Mission: Impossible - Dead Reckoning Part One (2023) Tomatometer icon \\\\u00b7 Killers of the Flower Moon (2023)\", \"sitelinks\": [{\"title\": \"Best Wide Release Movie\", \"link\": \"https://editorial.rottentomatoes.com/guide/best-wide-release-movies-2023/\"}, {\"title\": \"Movies by Genre\", \"link\": \"https://editorial.rottentomatoes.com/hub-subpage/best-reviewed-movies-by-genre-2023/\"}, {\"title\": \"Best-Reviewed Movies/TV...\", \"link\": \"https://editorial.rottentomatoes.com/hub-subpage/best-reviewed-movies-tv-2023/\"}], \"position\": 2}], \"relatedSearches\": [{\"query\": \"new movies 2023 bollywood\"}, {\"query\": \"new movies 2023 hollywood\"}, {\"query\": \"best movies 2023 netflix\"}, {\"query\": \"movie releases 2023 by month\"}, {\"query\": \"top 10 movies 2023\"}, {\"query\": \"2024 movies\"}, {\"query\": \"movies 2022\"}, {\"query\": \"new movies 2023 netflix\"}], \"credits\": 1}', annotations=None)] isError=False\n",
      "Agent:  Here are some of the latest movies released in 2023:\n",
      "\n",
      "1. **Oppenheimer**\n",
      "2. **Hell of a Summer**\n",
      "3. **The Hunger Games: The Ballad of Songbirds & Snakes**\n",
      "4. **Anyone But You**\n",
      "5. **Mission: Impossible - Dead Reckoning Part One**\n",
      "6. **Killers of the Flower Moon**\n",
      "\n",
      "You can find more details about these movies on platforms like IMDb and Rotten Tomatoes.\n",
      "User:  tell me abotu interstellar\n",
      "Calling tool get_movie_info with kwargs {'title': 'Interstellar'}\n",
      "Tool get_movie_info returned meta=None content=[TextContent(type='text', text='Index: 95\\nBudget: 165000000\\nGenres: Adventure Drama Science Fiction\\nHomepage: http://www.interstellarmovie.net/\\nId: 157336\\nKeywords: saving the world artificial intelligence father son relationship single parent nasa\\nOriginal_language: en\\nOriginal_title: Interstellar\\nOverview: Interstellar chronicles the adventures of a group of explorers who make use of a newly discovered wormhole to surpass the limitations on human space travel and conquer the vast distances involved in an interstellar voyage.\\nPopularity: 724.247784\\nProduction_companies: [{\"name\": \"Paramount Pictures\", \"id\": 4}, {\"name\": \"Legendary Pictures\", \"id\": 923}, {\"name\": \"Warner Bros.\", \"id\": 6194}, {\"name\": \"Syncopy\", \"id\": 9996}, {\"name\": \"Lynda Obst Productions\", \"id\": 13769}]\\nProduction_countries: [{\"iso_3166_1\": \"CA\", \"name\": \"Canada\"}, {\"iso_3166_1\": \"US\", \"name\": \"United States of America\"}, {\"iso_3166_1\": \"GB\", \"name\": \"United Kingdom\"}]\\nRelease_date: 2014-11-05\\nRevenue: 675120017\\nRuntime: 169.0\\nSpoken_languages: [{\"iso_639_1\": \"en\", \"name\": \"English\"}]\\nStatus: Released\\nTagline: Mankind was born on Earth. It was never meant to die here.\\nTitle: interstellar\\nVote_average: 8.1\\nVote_count: 10867\\nCast: Matthew McConaughey Jessica Chastain Anne Hathaway Michael Caine Casey Affleck\\nCrew: [{\\'name\\': \\'Hans Zimmer\\', \\'gender\\': 2, \\'department\\': \\'Sound\\', \\'job\\': \\'Original Music Composer\\', \\'credit_id\\': \\'52fe4bbf9251416c910e4801\\', \\'id\\': 947}, {\\'name\\': \\'Christopher Nolan\\', \\'gender\\': 2, \\'department\\': \\'Directing\\', \\'job\\': \\'Director\\', \\'credit_id\\': \\'52fe4bbf9251416c910e47c1\\', \\'id\\': 525}, {\\'name\\': \\'Christopher Nolan\\', \\'gender\\': 2, \\'department\\': \\'Production\\', \\'job\\': \\'Producer\\', \\'credit_id\\': \\'52fe4bbf9251416c910e47ed\\', \\'id\\': 525}, {\\'name\\': \\'Christopher Nolan\\', \\'gender\\': 2, \\'department\\': \\'Writing\\', \\'job\\': \\'Writer\\', \\'credit_id\\': \\'5505e4dac3a36862e900346c\\', \\'id\\': 525}, {\\'name\\': \\'Jonathan Nolan\\', \\'gender\\': 2, \\'department\\': \\'Writing\\', \\'job\\': \\'Writer\\', \\'credit_id\\': \\'5505e4cb92514179fb000a9a\\', \\'id\\': 527}, {\\'name\\': \\'Emma Thomas\\', \\'gender\\': 1, \\'department\\': \\'Production\\', \\'job\\': \\'Producer\\', \\'credit_id\\': \\'5319bc8592514177c20025a7\\', \\'id\\': 556}, {\\'name\\': \\'John Papsidera\\', \\'gender\\': 0, \\'department\\': \\'Production\\', \\'job\\': \\'Casting\\', \\'credit_id\\': \\'5319bc9892514177b7002639\\', \\'id\\': 561}, {\\'name\\': \\'Lynda Obst\\', \\'gender\\': 1, \\'department\\': \\'Production\\', \\'job\\': \\'Producer\\', \\'credit_id\\': \\'52fe4bbf9251416c910e47e7\\', \\'id\\': 2162}, {\\'name\\': \\'Lee Smith\\', \\'gender\\': 0, \\'department\\': \\'Editing\\', \\'job\\': \\'Editor\\', \\'credit_id\\': \\'5319bc1a92514177b4002655\\', \\'id\\': 3904}, {\\'name\\': \\'Mary Zophres\\', \\'gender\\': 1, \\'department\\': \\'Costume & Make-Up\\', \\'job\\': \\'Costume Design\\', \\'credit_id\\': \\'5319bc4792514177c200259d\\', \\'id\\': 7418}, {\\'name\\': \\'Robert Woodruff\\', \\'gender\\': 2, \\'department\\': \\'Art\\', \\'job\\': \\'Set Designer\\', \\'credit_id\\': \\'5519108bc3a3685cfa0051b8\\', \\'id\\': 14762}, {\\'name\\': \\'David F. Klassen\\', \\'gender\\': 2, \\'department\\': \\'Art\\', \\'job\\': \\'Art Direction\\', \\'credit_id\\': \\'54cba799925141678e014d20\\', \\'id\\': 14349}, {\\'name\\': \\'Nathan Crowley\\', \\'gender\\': 2, \\'department\\': \\'Art\\', \\'job\\': \\'Production Design\\', \\'credit_id\\': \\'5319bc2f92514177bf0025ac\\', \\'id\\': 15327}, {\\'name\\': \\'Casey Grant\\', \\'gender\\': 0, \\'department\\': \\'Production\\', \\'job\\': \\'Production Manager\\', \\'credit_id\\': \\'54cba898c3a3687a6501048f\\', \\'id\\': 18926}, {\\'name\\': \\'Gary Kosko\\', \\'gender\\': 0, \\'department\\': \\'Art\\', \\'job\\': \\'Art Direction\\', \\'credit_id\\': \\'54cba7acc3a36854a9003043\\', \\'id\\': 21718}, {\\'name\\': \\'Sally Thornton\\', \\'gender\\': 0, \\'department\\': \\'Art\\', \\'job\\': \\'Set Designer\\', \\'credit_id\\': \\'551910749251411500004260\\', \\'id\\': 21796}, {\\'name\\': \\'Jake Myers\\', \\'gender\\': 0, \\'department\\': \\'Production\\', \\'job\\': \\'Executive Producer\\', \\'credit_id\\': \\'5505e487c3a368262e003054\\', \\'id\\': 29608}, {\\'name\\': \\'R.J. Kizer\\', \\'gender\\': 2, \\'department\\': \\'Sound\\', \\'job\\': \\'ADR & Dubbing\\', \\'credit_id\\': \\'551911799251412b6d005415\\', \\'id\\': 52193}, {\\'name\\': \\'R.J. Kizer\\', \\'gender\\': 2, \\'department\\': \\'Editing\\', \\'job\\': \\'Dialogue Editor\\', \\'credit_id\\': \\'5519123cc3a3681f84002a00\\', \\'id\\': 52193}, {\\'name\\': \\'Thomas Tull\\', \\'gender\\': 0, \\'department\\': \\'Production\\', \\'job\\': \\'Executive Producer\\', \\'credit_id\\': \\'5505e4a292514179fb000a96\\', \\'id\\': 54211}, {\\'name\\': \\'Gary Fettis\\', \\'gender\\': 2, \\'department\\': \\'Art\\', \\'job\\': \\'Set Decoration\\', \\'credit_id\\': \\'54cba805c3a36874b70162ec\\', \\'id\\': 65711}, {\\'name\\': \\'Kevin Kaska\\', \\'gender\\': 0, \\'department\\': \\'Sound\\', \\'job\\': \\'Orchestrator\\', \\'credit_id\\': \\'579cff4f9251411217002c8a\\', \\'id\\': 68016}, {\\'name\\': \\'Hoyte van Hoytema\\', \\'gender\\': 0, \\'department\\': \\'Camera\\', \\'job\\': \\'Director of Photography\\', \\'credit_id\\': \\'52fe4bbf9251416c910e47fb\\', \\'id\\': 74401}, {\\'name\\': \\'Jordan Goldberg\\', \\'gender\\': 0, \\'department\\': \\'Production\\', \\'job\\': \\'Executive Producer\\', \\'credit_id\\': \\'5505e47ac3a3686b75000a29\\', \\'id\\': 113913}, {\\'name\\': \\'Paul Sonski\\', \\'gender\\': 0, \\'department\\': \\'Art\\', \\'job\\': \\'Set Designer\\', \\'credit_id\\': \\'5519104bc3a3685cfa0051ac\\', \\'id\\': 81731}, {\\'name\\': \\'Todd Rex\\', \\'gender\\': 2, \\'department\\': \\'Art\\', \\'job\\': \\'Sculptor\\', \\'credit_id\\': \\'5519110fc3a3681f840029a7\\', \\'id\\': 98681}, {\\'name\\': \\'Gary Rizzo\\', \\'gender\\': 0, \\'department\\': \\'Sound\\', \\'job\\': \\'Sound Re-Recording Mixer\\', \\'credit_id\\': \\'551913c39251415aab001f37\\', \\'id\\': 138618}, {\\'name\\': \\'Bruce Fowler\\', \\'gender\\': 2, \\'department\\': \\'Sound\\', \\'job\\': \\'Orchestrator\\', \\'credit_id\\': \\'575310969251411f5a0000e6\\', \\'id\\': 932186}, {\\'name\\': \\'Dean Wolcott\\', \\'gender\\': 2, \\'department\\': \\'Art\\', \\'job\\': \\'Supervising Art Director\\', \\'credit_id\\': \\'570bd2f5c3a36802a9000277\\', \\'id\\': 969743}, {\\'name\\': \\'Eric Sundahl\\', \\'gender\\': 2, \\'department\\': \\'Art\\', \\'job\\': \\'Art Direction\\', \\'credit_id\\': \\'54cba7d4925141678c014f6b\\', \\'id\\': 988882}, {\\'name\\': \\'Eric Sundahl\\', \\'gender\\': 2, \\'department\\': \\'Art\\', \\'job\\': \\'Set Designer\\', \\'credit_id\\': \\'551910609251412c1e0059a9\\', \\'id\\': 988882}, {\\'name\\': \\'Deanna Brigidi\\', \\'gender\\': 1, \\'department\\': \\'Production\\', \\'job\\': \\'Casting Associate\\', \\'credit_id\\': \\'56b782cf9251416615007154\\', \\'id\\': 989750}, {\\'name\\': \\'Eggert Ketilsson\\', \\'gender\\': 0, \\'department\\': \\'Art\\', \\'job\\': \\'Art Direction\\', \\'credit_id\\': \\'54cba770c3a3680924010431\\', \\'id\\': 991724}, {\\'name\\': \\'Hugo Weng\\', \\'gender\\': 0, \\'department\\': \\'Editing\\', \\'job\\': \\'Dialogue Editor\\', \\'credit_id\\': \\'55191222c3a36862ef007237\\', \\'id\\': 1050930}, {\\'name\\': \\'George Cottle\\', \\'gender\\': 0, \\'department\\': \\'Crew\\', \\'job\\': \\'Stunt Coordinator\\', \\'credit_id\\': \\'551919b09251415aab002014\\', \\'id\\': 1081074}, {\\'name\\': \\'John Roesch\\', \\'gender\\': 2, \\'department\\': \\'Sound\\', \\'job\\': \\'Foley\\', \\'credit_id\\': \\'551911fc9251416f00006ea1\\', \\'id\\': 1116937}, {\\'name\\': \\'Kip Thorne\\', \\'gender\\': 0, \\'department\\': \\'Production\\', \\'job\\': \\'Executive Producer\\', \\'credit_id\\': \\'5505e495c3a36862dd0030ef\\', \\'id\\': 1157625}, {\\'name\\': \\'Luisa Abel\\', \\'gender\\': 0, \\'department\\': \\'Costume & Make-Up\\', \\'job\\': \\'Makeup Department Head\\', \\'credit_id\\': \\'54cba84e92514157cc01098f\\', \\'id\\': 1322015}, {\\'name\\': \\'Melinda Sue Gordon\\', \\'gender\\': 1, \\'department\\': \\'Camera\\', \\'job\\': \\'Still Photographer\\', \\'credit_id\\': \\'54cbad19c3a36874b701635b\\', \\'id\\': 1324652}, {\\'name\\': \\'Kendelle Elliott\\', \\'gender\\': 0, \\'department\\': \\'Art\\', \\'job\\': \\'Art Direction\\', \\'credit_id\\': \\'54cba75b925141678e014d1a\\', \\'id\\': 1328137}, {\\'name\\': \\'Lynda Foote\\', \\'gender\\': 0, \\'department\\': \\'Costume & Make-Up\\', \\'job\\': \\'Costume Supervisor\\', \\'credit_id\\': \\'54cba9529251416789014ab6\\', \\'id\\': 1329113}, {\\'name\\': \\'Josh Lusby\\', \\'gender\\': 0, \\'department\\': \\'Art\\', \\'job\\': \\'Art Direction\\', \\'credit_id\\': \\'54cba7c392514157cc01098b\\', \\'id\\': 1334782}, {\\'name\\': \\'Richard King\\', \\'gender\\': 2, \\'department\\': \\'Sound\\', \\'job\\': \\'Supervising Sound Editor\\', \\'credit_id\\': \\'5519142d9251412c1e005a72\\', \\'id\\': 1341403}, {\\'name\\': \\'Gregg Landaker\\', \\'gender\\': 0, \\'department\\': \\'Sound\\', \\'job\\': \\'Sound Re-Recording Mixer\\', \\'credit_id\\': \\'5519131d9251412b6d005463\\', \\'id\\': 1341781}, {\\'name\\': \\'Mandi Dillin\\', \\'gender\\': 0, \\'department\\': \\'Production\\', \\'job\\': \\'Location Manager\\', \\'credit_id\\': \\'55191c23c3a36862ef007413\\', \\'id\\': 1345627}, {\\'name\\': \\'Cuitlahuac Morales Velazquez\\', \\'gender\\': 0, \\'department\\': \\'Art\\', \\'job\\': \\'Sculptor\\', \\'credit_id\\': \\'551911289251415918001ccb\\', \\'id\\': 1355530}, {\\'name\\': \\'Scott R. Fisher\\', \\'gender\\': 0, \\'department\\': \\'Crew\\', \\'job\\': \\'Special Effects Coordinator\\', \\'credit_id\\': \\'551914859251416f00006f22\\', \\'id\\': 1357062}, {\\'name\\': \\'P. Scott Sakamoto\\', \\'gender\\': 0, \\'department\\': \\'Camera\\', \\'job\\': \\'Camera Operator\\', \\'credit_id\\': \\'54cbacbfc3a36879df0108df\\', \\'id\\': 1357066}, {\\'name\\': \\'Denny Caira\\', \\'gender\\': 0, \\'department\\': \\'Crew\\', \\'job\\': \\'Transportation Coordinator\\', \\'credit_id\\': \\'55191bde9251416f0000701e\\', \\'id\\': 1357070}, {\\'name\\': \\'Noelle King\\', \\'gender\\': 1, \\'department\\': \\'Art\\', \\'job\\': \\'Set Designer\\', \\'credit_id\\': \\'5519102b9251415918001c8a\\', \\'id\\': 1360094}, {\\'name\\': \\'Michael W. Mitchell\\', \\'gender\\': 0, \\'department\\': \\'Sound\\', \\'job\\': \\'Sound Effects Editor\\', \\'credit_id\\': \\'551912a5c3a3681f84002a12\\', \\'id\\': 1377222}, {\\'name\\': \\'Ken J. Johnson\\', \\'gender\\': 0, \\'department\\': \\'Sound\\', \\'job\\': \\'Sound Effects Editor\\', \\'credit_id\\': \\'551912809251412c1e005a22\\', \\'id\\': 1378231}, {\\'name\\': \\'James Paradis\\', \\'gender\\': 0, \\'department\\': \\'Crew\\', \\'job\\': \\'Special Effects Coordinator\\', \\'credit_id\\': \\'5519149fc3a3684b6b002297\\', \\'id\\': 1378699}, {\\'name\\': \\'Martha Johnston\\', \\'gender\\': 0, \\'department\\': \\'Art\\', \\'job\\': \\'Set Designer\\', \\'credit_id\\': \\'55191016925141731c0028b8\\', \\'id\\': 1392896}, {\\'name\\': \\'Jenne Lee\\', \\'gender\\': 0, \\'department\\': \\'Art\\', \\'job\\': \\'Art Department Coordinator\\', \\'credit_id\\': \\'54cba8e6925141678e014d32\\', \\'id\\': 1395430}, {\\'name\\': \\'Alyson Dee Moore\\', \\'gender\\': 0, \\'department\\': \\'Sound\\', \\'job\\': \\'Foley\\', \\'credit_id\\': \\'551911e59251415918001cf4\\', \\'id\\': 1397823}, {\\'name\\': \\'Hans Bjerno\\', \\'gender\\': 0, \\'department\\': \\'Camera\\', \\'job\\': \\'Helicopter Camera\\', \\'credit_id\\': \\'54cbacf2925141635e00cdf5\\', \\'id\\': 1399071}, {\\'name\\': \\'Ernie Avila\\', \\'gender\\': 0, \\'department\\': \\'Art\\', \\'job\\': \\'Set Designer\\', \\'credit_id\\': \\'55190fe2c3a3685cfa005191\\', \\'id\\': 1399290}, {\\'name\\': \\'Andrew Birdzell\\', \\'gender\\': 0, \\'department\\': \\'Art\\', \\'job\\': \\'Set Designer\\', \\'credit_id\\': \\'55190ff99251416f00006e37\\', \\'id\\': 1399291}, {\\'name\\': \\'Michelle Brattson\\', \\'gender\\': 0, \\'department\\': \\'Production\\', \\'job\\': \\'Production Supervisor\\', \\'credit_id\\': \\'54cba8c3c3a3687a65010494\\', \\'id\\': 1400007}, {\\'name\\': \\'Dan Engle\\', \\'gender\\': 0, \\'department\\': \\'Art\\', \\'job\\': \\'Sculptor\\', \\'credit_id\\': \\'551910f5c3a3684b6b0021c7\\', \\'id\\': 1400019}, {\\'name\\': \\'Sahar Halabi\\', \\'gender\\': 0, \\'department\\': \\'Costume & Make-Up\\', \\'job\\': \\'Set Costumer\\', \\'credit_id\\': \\'55191b309251415aab00205d\\', \\'id\\': 1402494}, {\\'name\\': \\'Alex Gibson\\', \\'gender\\': 0, \\'department\\': \\'Sound\\', \\'job\\': \\'Music Editor\\', \\'credit_id\\': \\'55191ba39251416f0000700e\\', \\'id\\': 1403490}, {\\'name\\': \\'Jay Wejebe\\', \\'gender\\': 0, \\'department\\': \\'Costume & Make-Up\\', \\'job\\': \\'Makeup Artist\\', \\'credit_id\\': \\'54cba865925141635e00cd96\\', \\'id\\': 1412185}, {\\'name\\': \\'Ann Podlozny\\', \\'gender\\': 0, \\'department\\': \\'Visual Effects\\', \\'job\\': \\'Visual Effects Producer\\', \\'credit_id\\': \\'551918069251412b6d00551b\\', \\'id\\': 1413116}, {\\'name\\': \\'Christopher Morente\\', \\'gender\\': 0, \\'department\\': \\'Art\\', \\'job\\': \\'Greensman\\', \\'credit_id\\': \\'55190f13c3a36862ef007197\\', \\'id\\': 1415611}, {\\'name\\': \\'Patricia DeHaney\\', \\'gender\\': 0, \\'department\\': \\'Costume & Make-Up\\', \\'job\\': \\'Hairstylist\\', \\'credit_id\\': \\'54cba8239251416789014aa2\\', \\'id\\': 1417399}, {\\'name\\': \\'Jeff Sawyer\\', \\'gender\\': 0, \\'department\\': \\'Sound\\', \\'job\\': \\'Sound Effects Editor\\', \\'credit_id\\': \\'551912c9c3a36862ef007255\\', \\'id\\': 1417516}, {\\'name\\': \\'Steve Miller\\', \\'gender\\': 0, \\'department\\': \\'Crew\\', \\'job\\': \\'Visual Effects Editor\\', \\'credit_id\\': \\'551917dfc3a36862ef00733b\\', \\'id\\': 1417823}, {\\'name\\': \\'Andrew Lockley\\', \\'gender\\': 0, \\'department\\': \\'Visual Effects\\', \\'job\\': \\'Visual Effects Supervisor\\', \\'credit_id\\': \\'5519193fc3a36862f90074a1\\', \\'id\\': 1417828}, {\\'name\\': \\'Dane Bjerno\\', \\'gender\\': 0, \\'department\\': \\'Camera\\', \\'job\\': \\'Camera Technician\\', \\'credit_id\\': \\'54cbad3fc3a36879df0108eb\\', \\'id\\': 1417834}, {\\'name\\': \\'Andrew McEvoy\\', \\'gender\\': 0, \\'department\\': \\'Visual Effects\\', \\'job\\': \\'Animation\\', \\'credit_id\\': \\'5519164b9251411500004384\\', \\'id\\': 1417836}, {\\'name\\': \\'Eric A. Lewy\\', \\'gender\\': 0, \\'department\\': \\'Editing\\', \\'job\\': \\'First Assistant Editor\\', \\'credit_id\\': \\'55191b78c3a3684b6b0023ac\\', \\'id\\': 1417840}, {\\'name\\': \\'Ryan Rubin\\', \\'gender\\': 0, \\'department\\': \\'Sound\\', \\'job\\': \\'Music Editor\\', \\'credit_id\\': \\'55191bc29251412b6d0055b9\\', \\'id\\': 1417841}, {\\'name\\': \\'Jose Zamora\\', \\'gender\\': 0, \\'department\\': \\'Costume & Make-Up\\', \\'job\\': \\'Hairstylist\\', \\'credit_id\\': \\'54cba838c3a368044800f36f\\', \\'id\\': 1420642}, {\\'name\\': \\'Heather Moore\\', \\'gender\\': 0, \\'department\\': \\'Costume & Make-Up\\', \\'job\\': \\'Costume Supervisor\\', \\'credit_id\\': \\'54cba97dc3a368044800f38c\\', \\'id\\': 1420643}, {\\'name\\': \\'Craig Henderson\\', \\'gender\\': 0, \\'department\\': \\'Art\\', \\'job\\': \\'Construction Coordinator\\', \\'credit_id\\': \\'55190e0dc3a36862ef00714f\\', \\'id\\': 1421695}, {\\'name\\': \\'Lauren Abiouness\\', \\'gender\\': 0, \\'department\\': \\'Art\\', \\'job\\': \\'Assistant Art Director\\', \\'credit_id\\': \\'55190d8bc3a3682aa80009ca\\', \\'id\\': 1424897}, {\\'name\\': \\'Brian Walker\\', \\'gender\\': 0, \\'department\\': \\'Art\\', \\'job\\': \\'Construction Coordinator\\', \\'credit_id\\': \\'55190e50c3a3681f84002908\\', \\'id\\': 1424898}, {\\'name\\': \\'Paul Healy\\', \\'gender\\': 0, \\'department\\': \\'Art\\', \\'job\\': \\'Set Decoration\\', \\'credit_id\\': \\'56f81a4c9251412fdd003166\\', \\'id\\': 1426735}, {\\'name\\': \\'Tom Cummins\\', \\'gender\\': 0, \\'department\\': \\'Costume & Make-Up\\', \\'job\\': \\'Set Costumer\\', \\'credit_id\\': \\'55191b1ac3a3682aa8000c36\\', \\'id\\': 1428227}, {\\'name\\': \\'Mato\\', \\'gender\\': 2, \\'department\\': \\'Editing\\', \\'job\\': \\'Color Timer\\', \\'credit_id\\': \\'579bf956c3a36855d20025b4\\', \\'id\\': 1428834}, {\\'name\\': \\'Sean Oxenbury\\', \\'gender\\': 0, \\'department\\': \\'Lighting\\', \\'job\\': \\'Rigging Gaffer\\', \\'credit_id\\': \\'55191a5dc3a36862f6006cfc\\', \\'id\\': 1431089}, {\\'name\\': \\'Donald Likovich\\', \\'gender\\': 0, \\'department\\': \\'Editing\\', \\'job\\': \\'Assistant Editor\\', \\'credit_id\\': \\'56d4e8d1c3a3681e4a0151f6\\', \\'id\\': 1440853}, {\\'name\\': \\'Rick Lipton\\', \\'gender\\': 0, \\'department\\': \\'Crew\\', \\'job\\': \\'Dialect Coach\\', \\'credit_id\\': \\'55191c839251412c1e005bed\\', \\'id\\': 1442173}, {\\'name\\': \\'Joel Tobman\\', \\'gender\\': 0, \\'department\\': \\'Art\\', \\'job\\': \\'Art Department Coordinator\\', \\'credit_id\\': \\'55190d6e92514115000041a6\\', \\'id\\': 1447570}, {\\'name\\': \\'Travis Witkowski\\', \\'gender\\': 0, \\'department\\': \\'Art\\', \\'job\\': \\'Assistant Art Director\\', \\'credit_id\\': \\'55190dc09251416f0a007037\\', \\'id\\': 1447571}, {\\'name\\': \\'Nathan Davey\\', \\'gender\\': 0, \\'department\\': \\'Art\\', \\'job\\': \\'Greensman\\', \\'credit_id\\': \\'55190ec6c3a3684bd8002005\\', \\'id\\': 1447574}, {\\'name\\': \\'Steven Hanks\\', \\'gender\\': 0, \\'department\\': \\'Art\\', \\'job\\': \\'Greensman\\', \\'credit_id\\': \\'55190edbc3a3681f84002926\\', \\'id\\': 1447575}, {\\'name\\': \\'Darryl Stogre\\', \\'gender\\': 0, \\'department\\': \\'Art\\', \\'job\\': \\'Greensman\\', \\'credit_id\\': \\'55190f2d9251416f0a00709b\\', \\'id\\': 1447578}, {\\'name\\': \\'Mark Weissenfluh\\', \\'gender\\': 0, \\'department\\': \\'Art\\', \\'job\\': \\'Leadman\\', \\'credit_id\\': \\'55190f519251412c1e00596a\\', \\'id\\': 1447582}, {\\'name\\': \\'Ritchie Kremer\\', \\'gender\\': 0, \\'department\\': \\'Crew\\', \\'job\\': \\'Property Master\\', \\'credit_id\\': \\'55190f8b9251415aab001e5c\\', \\'id\\': 1447583}, {\\'name\\': \\'Andrew Bock\\', \\'gender\\': 0, \\'department\\': \\'Sound\\', \\'job\\': \\'First Assistant Sound Editor\\', \\'credit_id\\': \\'551913fbc3a3681f84002a57\\', \\'id\\': 1447601}, {\\'name\\': \\'Linda Yeaney\\', \\'gender\\': 0, \\'department\\': \\'Sound\\', \\'job\\': \\'First Assistant Sound Editor\\', \\'credit_id\\': \\'55191411c3a3685cfa005280\\', \\'id\\': 1447602}, {\\'name\\': \\'Dan Neal\\', \\'gender\\': 0, \\'department\\': \\'Crew\\', \\'job\\': \\'CG Supervisor\\', \\'credit_id\\': \\'551915099251411500004345\\', \\'id\\': 1447603}, {\\'name\\': \\'Eug\\\\\\\\u00e9nie von Tunzelmann\\', \\'gender\\': 0, \\'department\\': \\'Crew\\', \\'job\\': \\'CG Supervisor\\', \\'credit_id\\': \\'55191540c3a3681f84002a94\\', \\'id\\': 1447604}, {\\'name\\': \\'Fabio Zangla\\', \\'gender\\': 0, \\'department\\': \\'Crew\\', \\'job\\': \\'Sequence Supervisor\\', \\'credit_id\\': \\'5519157f9251412b6d0054c2\\', \\'id\\': 1447605}, {\\'name\\': \\'Seth Dubieniec\\', \\'gender\\': 0, \\'department\\': \\'Crew\\', \\'job\\': \\'Sequence Supervisor\\', \\'credit_id\\': \\'551915dcc3a3682aa8000b6c\\', \\'id\\': 1447609}, {\\'name\\': \\'Evan Clover\\', \\'gender\\': 0, \\'department\\': \\'Visual Effects\\', \\'job\\': \\'Animation\\', \\'credit_id\\': \\'5519160f9251415aab001f92\\', \\'id\\': 1447610}, {\\'name\\': \\'Trystan James\\', \\'gender\\': 0, \\'department\\': \\'Visual Effects\\', \\'job\\': \\'Animation\\', \\'credit_id\\': \\'55191623c3a3685cfa0052e8\\', \\'id\\': 1447611}, {\\'name\\': \\'Tom Barrett\\', \\'gender\\': 0, \\'department\\': \\'Crew\\', \\'job\\': \\'Visual Effects Editor\\', \\'credit_id\\': \\'5519167ec3a3684bd8002190\\', \\'id\\': 1447612}, {\\'name\\': \\'Lai Lok Chau\\', \\'gender\\': 0, \\'department\\': \\'Visual Effects\\', \\'job\\': \\'Animation\\', \\'credit_id\\': \\'551916aac3a36862f9007448\\', \\'id\\': 1447613}, {\\'name\\': \\'Dorian Knapp\\', \\'gender\\': 0, \\'department\\': \\'Visual Effects\\', \\'job\\': \\'Animation\\', \\'credit_id\\': \\'551916cbc3a3681f84002ad2\\', \\'id\\': 1447614}, {\\'name\\': \\'G\\\\\\\\u00e1bor Kiss\\', \\'gender\\': 0, \\'department\\': \\'Visual Effects\\', \\'job\\': \\'Animation\\', \\'credit_id\\': \\'5519170fc3a3681f84002ae2\\', \\'id\\': 1447615}, {\\'name\\': \\'Crystal Hadcroft\\', \\'gender\\': 0, \\'department\\': \\'Crew\\', \\'job\\': \\'Visual Effects Editor\\', \\'credit_id\\': \\'551917a192514115000043b7\\', \\'id\\': 1447617}, {\\'name\\': \\'Graeme Puttock\\', \\'gender\\': 0, \\'department\\': \\'Visual Effects\\', \\'job\\': \\'Visual Effects Producer\\', \\'credit_id\\': \\'5519187ac3a3681f84002b12\\', \\'id\\': 1447621}, {\\'name\\': \\'Jenny Basen\\', \\'gender\\': 0, \\'department\\': \\'Visual Effects\\', \\'job\\': \\'Visual Effects Producer\\', \\'credit_id\\': \\'551918c0925141731c002a50\\', \\'id\\': 1447622}, {\\'name\\': \\'Harrison Goldstein\\', \\'gender\\': 0, \\'department\\': \\'Visual Effects\\', \\'job\\': \\'Visual Effects Producer\\', \\'credit_id\\': \\'551918fb92514115000043e1\\', \\'id\\': 1447624}, {\\'name\\': \\'Harold Skinner\\', \\'gender\\': 0, \\'department\\': \\'Lighting\\', \\'job\\': \\'Gaffer\\', \\'credit_id\\': \\'55191a12c3a36862f6006cef\\', \\'id\\': 1447626}, {\\'name\\': \\'Martin Keough\\', \\'gender\\': 0, \\'department\\': \\'Lighting\\', \\'job\\': \\'Gaffer\\', \\'credit_id\\': \\'55191a339251415aab002021\\', \\'id\\': 1447627}, {\\'name\\': \\'Mark Avery\\', \\'gender\\': 0, \\'department\\': \\'Costume & Make-Up\\', \\'job\\': \\'Set Costumer\\', \\'credit_id\\': \\'55191ae5c3a3684b6b002384\\', \\'id\\': 1447628}, {\\'name\\': \\'Leigh Bell\\', \\'gender\\': 0, \\'department\\': \\'Costume & Make-Up\\', \\'job\\': \\'Set Costumer\\', \\'credit_id\\': \\'55191afdc3a3684bd8002242\\', \\'id\\': 1447632}, {\\'name\\': \\'Kelly Porter\\', \\'gender\\': 0, \\'department\\': \\'Costume & Make-Up\\', \\'job\\': \\'Set Costumer\\', \\'credit_id\\': \\'55191b4d925141731c002ab7\\', \\'id\\': 1447633}, {\\'name\\': \\'Bruce L. Brownstein\\', \\'gender\\': 0, \\'department\\': \\'Production\\', \\'job\\': \\'Location Manager\\', \\'credit_id\\': \\'55191bff9251412b6d0055c5\\', \\'id\\': 1447636}, {\\'name\\': \\'Frank Macchia\\', \\'gender\\': 0, \\'department\\': \\'Sound\\', \\'job\\': \\'Music\\', \\'credit_id\\': \\'572f6ce19251413c2700139c\\', \\'id\\': 1463824}, {\\'name\\': \\'Dixie Webster\\', \\'gender\\': 0, \\'department\\': \\'Production\\', \\'job\\': \\'Casting\\', \\'credit_id\\': \\'56d871f2c3a3681e4a01edad\\', \\'id\\': 1463954}, {\\'name\\': \\'Mark Scoon\\', \\'gender\\': 0, \\'department\\': \\'Production\\', \\'job\\': \\'Executive In Charge Of Production\\', \\'credit_id\\': \\'56b7820fc3a3684816007221\\', \\'id\\': 1564997}, {\\'name\\': \\'David E. Hall\\', \\'gender\\': 0, \\'department\\': \\'Crew\\', \\'job\\': \\'Post Production Supervisor\\', \\'credit_id\\': \\'5766ccabc3a36863cc000701\\', \\'id\\': 1571601}, {\\'name\\': \\'Frank Reina\\', \\'gender\\': 0, \\'department\\': \\'Crew\\', \\'job\\': \\'Production Office Assistant\\', \\'credit_id\\': \\'56bd046c9251417353000b2f\\', \\'id\\': 1576050}, {\\'name\\': \\'Andrew Kinney\\', \\'gender\\': 2, \\'department\\': \\'Sound\\', \\'job\\': \\'Orchestrator\\', \\'credit_id\\': \\'572cd0a5c3a3680ff900052e\\', \\'id\\': 1616082}]\\nDirector: Christopher Nolan', annotations=None)] isError=False\n",
      "Agent:  \"Interstellar\" is a 2014 science fiction film directed by Christopher Nolan. Here's some information about the movie:\n",
      "\n",
      "- **Genres**: Adventure, Drama, Science Fiction\n",
      "- **Overview**: The film chronicles the adventures of a group of explorers who make use of a newly discovered wormhole to surpass the limitations on human space travel and conquer the vast distances involved in an interstellar voyage.\n",
      "- **Tagline**: \"Mankind was born on Earth. It was never meant to die here.\"\n",
      "- **Release Date**: November 5, 2014\n",
      "- **Runtime**: 169 minutes\n",
      "- **Budget**: $165,000,000\n",
      "- **Revenue**: $675,120,017\n",
      "- **Production Companies**: Paramount Pictures, Legendary Pictures, Warner Bros., Syncopy, Lynda Obst Productions\n",
      "- **Production Countries**: Canada, United States of America, United Kingdom\n",
      "- **Spoken Language**: English\n",
      "- **Director**: Christopher Nolan\n",
      "- **Main Cast**: \n",
      "  - Matthew McConaughey\n",
      "  - Jessica Chastain\n",
      "  - Anne Hathaway\n",
      "  - Michael Caine\n",
      "  - Casey Affleck\n",
      "- **Music Composer**: Hans Zimmer\n",
      "- **Vote Average**: 8.1\n",
      "- **Vote Count**: 10,867\n",
      "\n",
      "For more details, you can visit the [official website](http://www.interstellarmovie.net/).\n"
     ]
    }
   ],
   "source": [
    "# Run the agent!\n",
    "while True:\n",
    "    user_input = input(\"Search movies by title: \")\n",
    "    if user_input == \"exit\":\n",
    "        break\n",
    "    print(\"User: \", user_input)\n",
    "    response = await handle_user_message(user_input, agent, agent_context, verbose=True)\n",
    "    print(\"Agent: \", response)"
   ]
  },
  {
   "cell_type": "markdown",
   "id": "79c44895",
   "metadata": {},
   "source": [
    "Here, we can see the agent is calling the `fetch_ipinfo` tool to get the ip info! This tool is running remotely on the mcp server.\n",
    "\n",
    "The `MCPToolSpec` is connecting to the MCP server and creating `FunctionTool`s for each tool that is registered on the MCP server."
   ]
  },
  {
   "cell_type": "code",
   "execution_count": 11,
   "id": "7a84adf7",
   "metadata": {},
   "outputs": [
    {
     "name": "stdout",
     "output_type": "stream",
     "text": [
      "get_alerts Get weather alerts for a US state.\n",
      "\n",
      "    Args:\n",
      "        state: Two-letter US state code (e.g. CA, NY)\n",
      "    \n",
      "get_forecast Get weather forecast for a location.\n",
      "\n",
      "    Args:\n",
      "        latitude: Latitude of the location\n",
      "        longitude: Longitude of the location\n",
      "    \n"
     ]
    }
   ],
   "source": [
    "tools = await mcp_tool.to_tool_list_async()\n",
    "for tool in tools:\n",
    "    print(tool.metadata.name, tool.metadata.description)"
   ]
  },
  {
   "cell_type": "markdown",
   "id": "33e7be78",
   "metadata": {},
   "source": [
    "You can also limit the tools that the `MCPToolSpec` will create by passing a list of tool names to the `MCPToolSpec` constructor."
   ]
  },
  {
   "cell_type": "code",
   "execution_count": 12,
   "id": "4929af70",
   "metadata": {},
   "outputs": [],
   "source": [
    "mcp_tool = McpToolSpec(client=mcp_client, allowed_tools=[\"some fake tool\"])\n",
    "tools = await mcp_tool.to_tool_list_async()\n",
    "for tool in tools:\n",
    "    print(tool.metadata.name, tool.metadata.description)"
   ]
  }
 ],
 "metadata": {
  "kernelspec": {
   "display_name": "mvenv",
   "language": "python",
   "name": "python3"
  },
  "language_info": {
   "codemirror_mode": {
    "name": "ipython",
    "version": 3
   },
   "file_extension": ".py",
   "mimetype": "text/x-python",
   "name": "python",
   "nbconvert_exporter": "python",
   "pygments_lexer": "ipython3",
   "version": "3.11.7"
  }
 },
 "nbformat": 4,
 "nbformat_minor": 5
}
